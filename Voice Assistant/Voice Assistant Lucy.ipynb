{
 "cells": [
  {
   "cell_type": "code",
   "execution_count": 79,
   "id": "1fbb5351",
   "metadata": {},
   "outputs": [
    {
     "name": "stdout",
     "output_type": "stream",
     "text": [
      "Requirement already satisfied: pyttsx3 in c:\\users\\rushikesh pote\\anaconda3\\lib\\site-packages (2.90)\n",
      "Requirement already satisfied: comtypes in c:\\users\\rushikesh pote\\anaconda3\\lib\\site-packages (from pyttsx3) (1.4.3)\n",
      "Requirement already satisfied: pypiwin32 in c:\\users\\rushikesh pote\\anaconda3\\lib\\site-packages (from pyttsx3) (223)\n",
      "Requirement already satisfied: pywin32 in c:\\users\\rushikesh pote\\anaconda3\\lib\\site-packages (from pyttsx3) (305.1)\n",
      "Note: you may need to restart the kernel to use updated packages.\n"
     ]
    }
   ],
   "source": [
    "pip install pyttsx3"
   ]
  },
  {
   "cell_type": "code",
   "execution_count": 80,
   "id": "e99b5ca3",
   "metadata": {},
   "outputs": [],
   "source": [
    "import pyttsx3 as p"
   ]
  },
  {
   "cell_type": "code",
   "execution_count": 81,
   "id": "0c61782b",
   "metadata": {},
   "outputs": [
    {
     "name": "stdout",
     "output_type": "stream",
     "text": [
      "Requirement already satisfied: speechRecognition in c:\\users\\rushikesh pote\\anaconda3\\lib\\site-packages (3.10.4)\n",
      "Requirement already satisfied: requests>=2.26.0 in c:\\users\\rushikesh pote\\anaconda3\\lib\\site-packages (from speechRecognition) (2.31.0)\n",
      "Requirement already satisfied: typing-extensions in c:\\users\\rushikesh pote\\anaconda3\\lib\\site-packages (from speechRecognition) (4.12.1)\n",
      "Requirement already satisfied: charset-normalizer<4,>=2 in c:\\users\\rushikesh pote\\anaconda3\\lib\\site-packages (from requests>=2.26.0->speechRecognition) (2.0.4)\n",
      "Requirement already satisfied: idna<4,>=2.5 in c:\\users\\rushikesh pote\\anaconda3\\lib\\site-packages (from requests>=2.26.0->speechRecognition) (3.4)\n",
      "Requirement already satisfied: urllib3<3,>=1.21.1 in c:\\users\\rushikesh pote\\anaconda3\\lib\\site-packages (from requests>=2.26.0->speechRecognition) (1.26.16)\n",
      "Requirement already satisfied: certifi>=2017.4.17 in c:\\users\\rushikesh pote\\anaconda3\\lib\\site-packages (from requests>=2.26.0->speechRecognition) (2023.7.22)\n",
      "Note: you may need to restart the kernel to use updated packages.\n"
     ]
    }
   ],
   "source": [
    "pip install speechRecognition"
   ]
  },
  {
   "cell_type": "code",
   "execution_count": 82,
   "id": "7eade207",
   "metadata": {},
   "outputs": [
    {
     "name": "stdout",
     "output_type": "stream",
     "text": [
      "Requirement already satisfied: PyAudio in c:\\users\\rushikesh pote\\anaconda3\\lib\\site-packages (0.2.14)\n",
      "Note: you may need to restart the kernel to use updated packages.\n"
     ]
    }
   ],
   "source": [
    "pip install PyAudio"
   ]
  },
  {
   "cell_type": "code",
   "execution_count": 83,
   "id": "1bba50c0",
   "metadata": {},
   "outputs": [
    {
     "name": "stdout",
     "output_type": "stream",
     "text": [
      "Requirement already satisfied: selenium in c:\\users\\rushikesh pote\\anaconda3\\lib\\site-packages (4.21.0)\n",
      "Requirement already satisfied: urllib3[socks]<3,>=1.26 in c:\\users\\rushikesh pote\\anaconda3\\lib\\site-packages (from selenium) (1.26.16)\n",
      "Requirement already satisfied: trio~=0.17 in c:\\users\\rushikesh pote\\anaconda3\\lib\\site-packages (from selenium) (0.25.1)\n",
      "Requirement already satisfied: trio-websocket~=0.9 in c:\\users\\rushikesh pote\\anaconda3\\lib\\site-packages (from selenium) (0.11.1)\n",
      "Requirement already satisfied: certifi>=2021.10.8 in c:\\users\\rushikesh pote\\anaconda3\\lib\\site-packages (from selenium) (2023.7.22)\n",
      "Requirement already satisfied: typing_extensions>=4.9.0 in c:\\users\\rushikesh pote\\anaconda3\\lib\\site-packages (from selenium) (4.12.1)\n",
      "Requirement already satisfied: attrs>=23.2.0 in c:\\users\\rushikesh pote\\anaconda3\\lib\\site-packages (from trio~=0.17->selenium) (23.2.0)\n",
      "Requirement already satisfied: sortedcontainers in c:\\users\\rushikesh pote\\anaconda3\\lib\\site-packages (from trio~=0.17->selenium) (2.4.0)\n",
      "Requirement already satisfied: idna in c:\\users\\rushikesh pote\\anaconda3\\lib\\site-packages (from trio~=0.17->selenium) (3.4)\n",
      "Requirement already satisfied: outcome in c:\\users\\rushikesh pote\\anaconda3\\lib\\site-packages (from trio~=0.17->selenium) (1.3.0.post0)\n",
      "Requirement already satisfied: sniffio>=1.3.0 in c:\\users\\rushikesh pote\\anaconda3\\lib\\site-packages (from trio~=0.17->selenium) (1.3.1)\n",
      "Requirement already satisfied: cffi>=1.14 in c:\\users\\rushikesh pote\\anaconda3\\lib\\site-packages (from trio~=0.17->selenium) (1.15.1)\n",
      "Requirement already satisfied: wsproto>=0.14 in c:\\users\\rushikesh pote\\anaconda3\\lib\\site-packages (from trio-websocket~=0.9->selenium) (1.2.0)\n",
      "Requirement already satisfied: PySocks!=1.5.7,<2.0,>=1.5.6 in c:\\users\\rushikesh pote\\anaconda3\\lib\\site-packages (from urllib3[socks]<3,>=1.26->selenium) (1.7.1)\n",
      "Requirement already satisfied: pycparser in c:\\users\\rushikesh pote\\anaconda3\\lib\\site-packages (from cffi>=1.14->trio~=0.17->selenium) (2.21)\n",
      "Requirement already satisfied: h11<1,>=0.9.0 in c:\\users\\rushikesh pote\\anaconda3\\lib\\site-packages (from wsproto>=0.14->trio-websocket~=0.9->selenium) (0.14.0)\n",
      "Note: you may need to restart the kernel to use updated packages.\n"
     ]
    }
   ],
   "source": [
    "pip install selenium"
   ]
  },
  {
   "cell_type": "code",
   "execution_count": 84,
   "id": "7063e5cb",
   "metadata": {},
   "outputs": [],
   "source": [
    "import speech_recognition as sr"
   ]
  },
  {
   "cell_type": "code",
   "execution_count": 87,
   "id": "da54c24a",
   "metadata": {},
   "outputs": [],
   "source": [
    "from selenium import webdriver\n",
    "from selenium.webdriver.chrome.service import Service\n",
    "from selenium.webdriver.common.by import By\n",
    "from selenium.webdriver.support.ui import WebDriverWait\n",
    "from selenium.webdriver.support import expected_conditions as EC"
   ]
  },
  {
   "cell_type": "code",
   "execution_count": 86,
   "id": "afdf8d9e",
   "metadata": {},
   "outputs": [],
   "source": [
    "class Inflow:\n",
    "    def __init__(self):\n",
    "        # Specify the path to the ChromeDriver executable using a raw string\n",
    "        self.service = Service(r'C:\\Users\\rushikesh pote\\Downloads\\chromedriver-win32\\chromedriver.exe')\n",
    "        self.driver = webdriver.Chrome(service=self.service)\n",
    "        \n",
    "    def get_info(self, query):\n",
    "        self.query = query\n",
    "        self.driver.get(url=\"https://www.wikipedia.org\")\n",
    "        search = self.driver.find_element(By.XPATH, '//*[@id=\"searchInput\"]')\n",
    "        search.send_keys(query)\n",
    "        search.submit()\n",
    "\n",
    "assist = Inflow()\n",
    "assist.get_info(\"United Kingdom\")"
   ]
  },
  {
   "cell_type": "code",
   "execution_count": 89,
   "id": "ac7f155f",
   "metadata": {},
   "outputs": [],
   "source": [
    "class Music:\n",
    "    def __init__(self):\n",
    "        # Specify the path to the ChromeDriver executable using a raw string\n",
    "        self.service = Service(r'C:\\Users\\rushikesh pote\\Downloads\\chromedriver-win32\\chromedriver.exe')\n",
    "        self.driver = webdriver.Chrome(service=self.service)\n",
    "        \n",
    "    def play(self, query):\n",
    "        self.query = query\n",
    "        self.driver.get(\"https://www.youtube.com/results?search_query=\" + query)\n",
    "        # Wait for the video title to be clickable\n",
    "        video = WebDriverWait(self.driver, 10).until(\n",
    "            EC.element_to_be_clickable((By.XPATH, '//*[@id=\"video-title\"]'))\n",
    "        )\n",
    "        video.click()\n",
    "        \n",
    "assist = Music()\n",
    "assist.play(\"Dynamite\")"
   ]
  },
  {
   "cell_type": "code",
   "execution_count": 90,
   "id": "0737f9f2",
   "metadata": {},
   "outputs": [
    {
     "name": "stdout",
     "output_type": "stream",
     "text": [
      "Requirement already satisfied: requests in c:\\users\\rushikesh pote\\anaconda3\\lib\\site-packages (2.31.0)\n",
      "Requirement already satisfied: charset-normalizer<4,>=2 in c:\\users\\rushikesh pote\\anaconda3\\lib\\site-packages (from requests) (2.0.4)\n",
      "Requirement already satisfied: idna<4,>=2.5 in c:\\users\\rushikesh pote\\anaconda3\\lib\\site-packages (from requests) (3.4)\n",
      "Requirement already satisfied: urllib3<3,>=1.21.1 in c:\\users\\rushikesh pote\\anaconda3\\lib\\site-packages (from requests) (1.26.16)\n",
      "Requirement already satisfied: certifi>=2017.4.17 in c:\\users\\rushikesh pote\\anaconda3\\lib\\site-packages (from requests) (2023.7.22)\n",
      "Note: you may need to restart the kernel to use updated packages.\n"
     ]
    }
   ],
   "source": [
    "pip install requests"
   ]
  },
  {
   "cell_type": "code",
   "execution_count": 91,
   "id": "e096ba8a",
   "metadata": {},
   "outputs": [
    {
     "name": "stdout",
     "output_type": "stream",
     "text": [
      "Requirement already satisfied: randfacts in c:\\users\\rushikesh pote\\anaconda3\\lib\\site-packages (0.21.0)\n",
      "Note: you may need to restart the kernel to use updated packages.\n"
     ]
    }
   ],
   "source": [
    "pip install randfacts"
   ]
  },
  {
   "cell_type": "code",
   "execution_count": 92,
   "id": "05fa0493",
   "metadata": {},
   "outputs": [
    {
     "name": "stdout",
     "output_type": "stream",
     "text": [
      "Requirement already satisfied: jokes in c:\\users\\rushikesh pote\\anaconda3\\lib\\site-packages (0.1.7)\n",
      "Note: you may need to restart the kernel to use updated packages.\n"
     ]
    }
   ],
   "source": [
    "pip install jokes"
   ]
  },
  {
   "cell_type": "code",
   "execution_count": 93,
   "id": "c899195a",
   "metadata": {},
   "outputs": [],
   "source": [
    "import randfacts"
   ]
  },
  {
   "cell_type": "code",
   "execution_count": 94,
   "id": "e88d1a05",
   "metadata": {},
   "outputs": [],
   "source": [
    "import requests\n",
    "from jokes import *\n",
    "\n",
    "url = \"https://official-joke-api.appspot.com/random_joke\"\n",
    "json_data = requests.get(url).json()\n",
    "\n",
    "arr = [\"\",\"\"]\n",
    "arr[0] = json_data[\"setup\"]\n",
    "arr[1] = json_data[\"punchline\"]\n",
    "\n",
    "def joke():\n",
    "    return arr"
   ]
  },
  {
   "cell_type": "code",
   "execution_count": 98,
   "id": "edf8dcf5",
   "metadata": {},
   "outputs": [
    {
     "name": "stdout",
     "output_type": "stream",
     "text": [
      "listening...\n",
      "I am good what about you\n",
      "listening...\n",
      "listening...\n",
      "playing Dekha Tenu Pehli Pehli Baar Ve on youtube\n"
     ]
    }
   ],
   "source": [
    "engine = p.init()\n",
    "rate = engine.getProperty('rate')\n",
    "engine.setProperty('rate', 180)\n",
    "voices = engine.getProperty('voices')\n",
    "engine.setProperty('voice',voices[1].id)\n",
    "\n",
    "def speak(text):\n",
    "    engine.say(text)\n",
    "    engine.runAndWait()\n",
    "\n",
    "\n",
    "r = sr.Recognizer()\n",
    "\n",
    "speak(\"Hello Sir I am your voice assistant Lucy, How are you?\")\n",
    "\n",
    "\n",
    "with sr.Microphone() as source:\n",
    "    r.energy_threshold = 10000\n",
    "    r.adjust_for_ambient_noise(source, 1.2)\n",
    "    print(\"listening...\")\n",
    "    audio = r.listen(source)\n",
    "    text = r.recognize_google(audio)\n",
    "    print(text)\n",
    "    \n",
    "if \"what\"and \"about\" and \"you\" in text:\n",
    "    speak(\"I am also having a good day sir\")\n",
    "speak(\"What can i do for you?\")\n",
    "\n",
    "with sr.Microphone() as source:\n",
    "    r.energy_threshold = 10000\n",
    "    r.adjust_for_ambient_noise(source, 1.2)\n",
    "    print(\"listening...\")\n",
    "    audio = r.listen(source)\n",
    "    text2 = r.recognize_google(audio)\n",
    "    \n",
    "if \"information\" in text2:\n",
    "    speak(\"You need information related to which topic?\")\n",
    "    \n",
    "    with sr.Microphone() as source:\n",
    "        r.energy_threshold = 10000\n",
    "        r.adjust_for_ambient_noise(source, 1.2)\n",
    "        print(\"listening...\")\n",
    "        audio = r.listen(source)\n",
    "        infor = r.recognize_google(audio)\n",
    "    speak(\"searching {} on wikipedia\".format(infor))\n",
    "    \n",
    "    assist = Inflow()\n",
    "    assist.get_info(infor) \n",
    "\n",
    "elif \"play\" and \"video\" in text2:\n",
    "    speak(\"Which video do you want to play?\")\n",
    "    \n",
    "    with sr.Microphone() as source:\n",
    "        r.energy_threshold = 10000\n",
    "        r.adjust_for_ambient_noise(source, 1.2)\n",
    "        print(\"listening...\")\n",
    "        audio = r.listen(source)\n",
    "        try:\n",
    "            vid = r.recognize_google(audio)\n",
    "            print(\"playing {} on youtube\".format(vid))\n",
    "            speak(\"playing {} on youtube\".format(vid))\n",
    "            \n",
    "            assist = Music()\n",
    "            assist.play(vid)\n",
    "        except sr.UnknownValueError:\n",
    "            print(\"Google Speech Recognition could not understand audio\")\n",
    "            speak(\"I could not understand the audio\")\n",
    "        except sr.RequestError as e:\n",
    "            print(\"Could not request results from Google Speech Recognition service; {0}\".format(e))\n",
    "            speak(\"Could not request results from the speech recognition service\")\n",
    "            \n",
    "elif \"fact\" in text2 or \"facts\" in text2:\n",
    "    speak(\"Sure sir, \")\n",
    "    x = randfacts.getFact()\n",
    "    print(x)\n",
    "    speak(\"Did you know that, \"+x)\n",
    "    \n",
    "elif \"joke\" in text2:\n",
    "    speak(\"Sure sir, get ready for some chuckles\")\n",
    "    ar = joke()\n",
    "    print(ar[0])\n",
    "    speak(ar[0])\n",
    "    print(ar[1])\n",
    "    speak(ar[1])"
   ]
  },
  {
   "cell_type": "code",
   "execution_count": null,
   "id": "5c022428",
   "metadata": {},
   "outputs": [],
   "source": [
    " "
   ]
  },
  {
   "cell_type": "code",
   "execution_count": null,
   "id": "ed6a7a5d",
   "metadata": {},
   "outputs": [],
   "source": []
  },
  {
   "cell_type": "code",
   "execution_count": 34,
   "id": "b97faa57",
   "metadata": {},
   "outputs": [],
   "source": []
  },
  {
   "cell_type": "code",
   "execution_count": 35,
   "id": "b11ec3f1",
   "metadata": {},
   "outputs": [],
   "source": []
  },
  {
   "cell_type": "code",
   "execution_count": null,
   "id": "1cb41c73",
   "metadata": {},
   "outputs": [],
   "source": []
  },
  {
   "cell_type": "code",
   "execution_count": null,
   "id": "8d6ddc12",
   "metadata": {},
   "outputs": [],
   "source": []
  }
 ],
 "metadata": {
  "kernelspec": {
   "display_name": "Python 3 (ipykernel)",
   "language": "python",
   "name": "python3"
  },
  "language_info": {
   "codemirror_mode": {
    "name": "ipython",
    "version": 3
   },
   "file_extension": ".py",
   "mimetype": "text/x-python",
   "name": "python",
   "nbconvert_exporter": "python",
   "pygments_lexer": "ipython3",
   "version": "3.11.5"
  }
 },
 "nbformat": 4,
 "nbformat_minor": 5
}
